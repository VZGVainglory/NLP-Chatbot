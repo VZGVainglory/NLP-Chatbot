{
 "cells": [
  {
   "cell_type": "markdown",
   "metadata": {},
   "source": [
    "TF-IDF算法代码示例\n",
    "\n",
    "0. 引入依赖\n",
    "\n",
    "1. 定义数据和预处理\n",
    "\n",
    "2. 进行词数统计\n",
    "\n",
    "3. 计算词频 TF\n",
    "\n",
    "4. 计算逆文档频率 IDF\n",
    "\n",
    "5. 计算 TF-IDF"
   ]
  },
  {
   "cell_type": "markdown",
   "metadata": {},
   "source": [
    "## 引入依赖"
   ]
  },
  {
   "cell_type": "code",
   "execution_count": 1,
   "metadata": {},
   "outputs": [],
   "source": [
    "import numpy as np # 数值计算、矩阵运算、向量运算\n",
    "import pandas as pd # 数值分析、科学计算"
   ]
  },
  {
   "cell_type": "markdown",
   "metadata": {},
   "source": [
    "## 定义数据和预处理"
   ]
  },
  {
   "cell_type": "code",
   "execution_count": 2,
   "metadata": {},
   "outputs": [],
   "source": [
    "# 定义文档\n",
    "docA = 'The cat sat on my bed'\n",
    "docB = 'The dog sat on my knees'\n",
    "\n",
    "# 切割文档\n",
    "bowA = docA.split(' ')\n",
    "bowB = docB.split(' ')\n",
    "# bowA # ['The', 'cat', 'sat', 'on', 'my', 'bed']\n",
    "# bowB # ['The', 'dog', 'sat', 'on', 'my', 'knees']\n",
    "\n",
    "# 构建词库\n",
    "wordSet = set(bowA).union(set(bowB))\n",
    "# wordSet # {'The', 'bed', 'cat', 'dog', 'knees', 'my', 'on', 'sat'}"
   ]
  },
  {
   "cell_type": "markdown",
   "metadata": {},
   "source": [
    "## 进行词数统计"
   ]
  },
  {
   "cell_type": "code",
   "execution_count": 4,
   "metadata": {},
   "outputs": [
    {
     "data": {
      "text/html": [
       "<div>\n",
       "<style scoped>\n",
       "    .dataframe tbody tr th:only-of-type {\n",
       "        vertical-align: middle;\n",
       "    }\n",
       "\n",
       "    .dataframe tbody tr th {\n",
       "        vertical-align: top;\n",
       "    }\n",
       "\n",
       "    .dataframe thead th {\n",
       "        text-align: right;\n",
       "    }\n",
       "</style>\n",
       "<table border=\"1\" class=\"dataframe\">\n",
       "  <thead>\n",
       "    <tr style=\"text-align: right;\">\n",
       "      <th></th>\n",
       "      <th>knees</th>\n",
       "      <th>cat</th>\n",
       "      <th>sat</th>\n",
       "      <th>The</th>\n",
       "      <th>on</th>\n",
       "      <th>dog</th>\n",
       "      <th>bed</th>\n",
       "      <th>my</th>\n",
       "    </tr>\n",
       "  </thead>\n",
       "  <tbody>\n",
       "    <tr>\n",
       "      <td>0</td>\n",
       "      <td>0</td>\n",
       "      <td>1</td>\n",
       "      <td>1</td>\n",
       "      <td>1</td>\n",
       "      <td>1</td>\n",
       "      <td>0</td>\n",
       "      <td>1</td>\n",
       "      <td>1</td>\n",
       "    </tr>\n",
       "    <tr>\n",
       "      <td>1</td>\n",
       "      <td>1</td>\n",
       "      <td>0</td>\n",
       "      <td>1</td>\n",
       "      <td>1</td>\n",
       "      <td>1</td>\n",
       "      <td>1</td>\n",
       "      <td>0</td>\n",
       "      <td>1</td>\n",
       "    </tr>\n",
       "  </tbody>\n",
       "</table>\n",
       "</div>"
      ],
      "text/plain": [
       "   knees  cat  sat  The  on  dog  bed  my\n",
       "0      0    1    1    1   1    0    1   1\n",
       "1      1    0    1    1   1    1    0   1"
      ]
     },
     "execution_count": 4,
     "metadata": {},
     "output_type": "execute_result"
    }
   ],
   "source": [
    "# 用字典来保存词出现的次数\n",
    "wordDictA = dict.fromkeys(wordSet, 0)\n",
    "wordDictB = dict.fromkeys(wordSet, 0)\n",
    "wordDictA\n",
    "wordDictB\n",
    "\n",
    "# 遍历文档，统计词数\n",
    "for word in bowA:\n",
    "    wordDictA[word] += 1\n",
    "for word in bowB:\n",
    "    wordDictB[word] += 1\n",
    "\n",
    "pd.DataFrame([wordDictA, wordDictB])"
   ]
  },
  {
   "cell_type": "markdown",
   "metadata": {},
   "source": [
    "## 计算词频 TF"
   ]
  },
  {
   "cell_type": "code",
   "execution_count": 5,
   "metadata": {},
   "outputs": [
    {
     "name": "stdout",
     "output_type": "stream",
     "text": [
      "{'knees': 0.0, 'cat': 0.16666666666666666, 'sat': 0.16666666666666666, 'The': 0.16666666666666666, 'on': 0.16666666666666666, 'dog': 0.0, 'bed': 0.16666666666666666, 'my': 0.16666666666666666}\n",
      "{'knees': 0.16666666666666666, 'cat': 0.0, 'sat': 0.16666666666666666, 'The': 0.16666666666666666, 'on': 0.16666666666666666, 'dog': 0.16666666666666666, 'bed': 0.0, 'my': 0.16666666666666666}\n"
     ]
    }
   ],
   "source": [
    "def computeTF(wordDict, bow):\n",
    "    # 用一个字典对象保存 TF，把所有对应于 bow 文档里的 TF都计算出来\n",
    "    tfDict = {}\n",
    "    nbowCount = len(bow)\n",
    "\n",
    "    for word, count in wordDict.items():\n",
    "        tfDict[word] = count / nbowCount\n",
    "    return tfDict\n",
    "\n",
    "# 测试\n",
    "tfA = computeTF(wordDictA, bowA)\n",
    "tfB = computeTF(wordDictB, bowB)\n",
    "print(tfA)\n",
    "print(tfB)"
   ]
  },
  {
   "cell_type": "markdown",
   "metadata": {},
   "source": [
    "## 计算逆文档频率 IDF"
   ]
  },
  {
   "cell_type": "code",
   "execution_count": 6,
   "metadata": {},
   "outputs": [],
   "source": [
    "def computeIDF(wordDictList):\n",
    "    # 用一个字典对象保存 IDF，每个词作为 key，初始值为 0\n",
    "    idfDict = dict.fromkeys(wordDictList[0], 0)\n",
    "    # 总文档数量\n",
    "    N = len(wordDictList)\n",
    "    import math\n",
    "\n",
    "    for wordDict in wordDictList:\n",
    "        # 遍历字典中的每个词汇，统计 Ni\n",
    "        for word, count in wordDict.items():\n",
    "            if count > 0 :\n",
    "                # 先把 Ni 增加 1，存入到 idfDict 中\n",
    "                idfDict[word] += 1\n",
    "\n",
    "    # 已经得到所有词汇 i 对应的 Ni，现在根据公式把它替换成 idf 值\n",
    "    for word, Ni in idfDict.items():\n",
    "        idfDict[word] = math.log10((N + 1)/(Ni + 1))\n",
    "    return idfDict\n",
    "\n",
    "# 测试\n",
    "idfs = computeIDF([wordDictA, wordDictB])"
   ]
  },
  {
   "cell_type": "code",
   "execution_count": 7,
   "metadata": {},
   "outputs": [
    {
     "data": {
      "text/html": [
       "<div>\n",
       "<style scoped>\n",
       "    .dataframe tbody tr th:only-of-type {\n",
       "        vertical-align: middle;\n",
       "    }\n",
       "\n",
       "    .dataframe tbody tr th {\n",
       "        vertical-align: top;\n",
       "    }\n",
       "\n",
       "    .dataframe thead th {\n",
       "        text-align: right;\n",
       "    }\n",
       "</style>\n",
       "<table border=\"1\" class=\"dataframe\">\n",
       "  <thead>\n",
       "    <tr style=\"text-align: right;\">\n",
       "      <th></th>\n",
       "      <th>knees</th>\n",
       "      <th>cat</th>\n",
       "      <th>sat</th>\n",
       "      <th>The</th>\n",
       "      <th>on</th>\n",
       "      <th>dog</th>\n",
       "      <th>bed</th>\n",
       "      <th>my</th>\n",
       "    </tr>\n",
       "  </thead>\n",
       "  <tbody>\n",
       "    <tr>\n",
       "      <td>0</td>\n",
       "      <td>0.000000</td>\n",
       "      <td>0.029349</td>\n",
       "      <td>0.0</td>\n",
       "      <td>0.0</td>\n",
       "      <td>0.0</td>\n",
       "      <td>0.000000</td>\n",
       "      <td>0.029349</td>\n",
       "      <td>0.0</td>\n",
       "    </tr>\n",
       "    <tr>\n",
       "      <td>1</td>\n",
       "      <td>0.029349</td>\n",
       "      <td>0.000000</td>\n",
       "      <td>0.0</td>\n",
       "      <td>0.0</td>\n",
       "      <td>0.0</td>\n",
       "      <td>0.029349</td>\n",
       "      <td>0.000000</td>\n",
       "      <td>0.0</td>\n",
       "    </tr>\n",
       "  </tbody>\n",
       "</table>\n",
       "</div>"
      ],
      "text/plain": [
       "      knees       cat  sat  The   on       dog       bed   my\n",
       "0  0.000000  0.029349  0.0  0.0  0.0  0.000000  0.029349  0.0\n",
       "1  0.029349  0.000000  0.0  0.0  0.0  0.029349  0.000000  0.0"
      ]
     },
     "execution_count": 7,
     "metadata": {},
     "output_type": "execute_result"
    }
   ],
   "source": [
    "def computeTFIDF(tf, idfs):\n",
    "    tfidf = {}\n",
    "    for word, tfval in tf.items():\n",
    "        tfidf[word] = tfval * idfs[word]\n",
    "    return tfidf\n",
    "\n",
    "# 测试\n",
    "tfidfA = computeTFIDF(tfA, idfs)\n",
    "tfidfB = computeTFIDF(tfB, idfs)\n",
    "\n",
    "pd.DataFrame([tfidfA, tfidfB])"
   ]
  },
  {
   "cell_type": "code",
   "execution_count": null,
   "metadata": {},
   "outputs": [],
   "source": []
  }
 ],
 "metadata": {
  "kernelspec": {
   "display_name": "Python 3",
   "language": "python",
   "name": "python3"
  },
  "language_info": {
   "codemirror_mode": {
    "name": "ipython",
    "version": 3
   },
   "file_extension": ".py",
   "mimetype": "text/x-python",
   "name": "python",
   "nbconvert_exporter": "python",
   "pygments_lexer": "ipython3",
   "version": "3.7.4"
  },
  "toc": {
   "base_numbering": 1,
   "nav_menu": {},
   "number_sections": true,
   "sideBar": true,
   "skip_h1_title": false,
   "title_cell": "Table of Contents",
   "title_sidebar": "Contents",
   "toc_cell": false,
   "toc_position": {},
   "toc_section_display": true,
   "toc_window_display": false
  }
 },
 "nbformat": 4,
 "nbformat_minor": 2
}
