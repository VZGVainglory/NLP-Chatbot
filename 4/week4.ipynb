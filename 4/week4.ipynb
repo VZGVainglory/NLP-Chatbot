{
 "cells": [
  {
   "cell_type": "markdown",
   "metadata": {},
   "source": [
    "# Chatterbot聊天机器人\n",
    "\n",
    "chatterbot是一款python接口的，基于一系列规则和机器学习算法完成的聊天机器人。具有结构清晰，可扩展性好，简单实用的特点。安装\n",
    "是的，安装超级简单，用pip就可以啦\n",
    "\n",
    "pip install chatterbot\n",
    "各式各样的Adapter\n",
    "大家已经知道chatterbot的聊天逻辑和输入输出以及存储，是由各种adapter来限定的，我们先看看流程图，一会软再一起看点例子，看看怎么用。\n",
    "\n",
    "基础版本"
   ]
  },
  {
   "cell_type": "code",
   "execution_count": null,
   "metadata": {},
   "outputs": [],
   "source": [
    "# -*- coding: utf-8 -*-\n",
    "from chatterbot import ChatBot\n",
    "\n",
    "\n",
    "# 构建ChatBot并指定Adapter\n",
    "bot = ChatBot(\n",
    "    'Default Response Example Bot',\n",
    "    storage_adapter='chatterbot.storage.JsonFileStorageAdapter',\n",
    "    logic_adapters=[\n",
    "        {\n",
    "            'import_path': 'chatterbot.logic.BestMatch'\n",
    "        },\n",
    "        {\n",
    "            'import_path': 'chatterbot.logic.LowConfidenceAdapter',\n",
    "            'threshold': 0.65,\n",
    "            'default_response': 'I am sorry, but I do not understand.'\n",
    "        }\n",
    "    ],\n",
    "    trainer='chatterbot.trainers.ListTrainer'\n",
    ")\n",
    "\n",
    "# 手动给定一点语料用于训练\n",
    "bot.train([\n",
    "    'How can I help you?',\n",
    "    'I want to create a chat bot',\n",
    "    'Have you read the documentation?',\n",
    "    'No, I have not',\n",
    "    'This should help get you started: http://chatterbot.rtfd.org/en/latest/quickstart.html'\n",
    "])\n",
    "\n",
    "# 给定问题并取回结果\n",
    "question = 'How do I make an omelette?'\n",
    "print(question)\n",
    "response = bot.get_response(question)\n",
    "print(response)\n",
    "\n",
    "print(\"\\n\")\n",
    "question = 'how to make a chat bot?'\n",
    "print(question)\n",
    "response = bot.get_response(question)\n",
    "print(response)\n",
    "How do I make an omelette?\n",
    "I am sorry, but I do not understand.\n",
    "\n",
    "\n",
    "how to make a chat bot?\n",
    "Have you read the documentation?"
   ]
  },
  {
   "cell_type": "markdown",
   "metadata": {},
   "source": []
  },
  {
   "cell_type": "code",
   "execution_count": null,
   "metadata": {},
   "outputs": [],
   "source": []
  }
 ],
 "metadata": {
  "kernelspec": {
   "display_name": "Python 3",
   "language": "python",
   "name": "python3"
  },
  "language_info": {
   "codemirror_mode": {
    "name": "ipython",
    "version": 3
   },
   "file_extension": ".py",
   "mimetype": "text/x-python",
   "name": "python",
   "nbconvert_exporter": "python",
   "pygments_lexer": "ipython3",
   "version": "3.7.3"
  }
 },
 "nbformat": 4,
 "nbformat_minor": 2
}
