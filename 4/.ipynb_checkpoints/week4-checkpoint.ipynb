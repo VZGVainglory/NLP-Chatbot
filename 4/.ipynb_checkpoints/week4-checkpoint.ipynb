{
 "cells": [
  {
   "cell_type": "markdown",
   "metadata": {},
   "source": [
    "# Chatterbot聊天机器人\n",
    "\n",
    "chatterbot是一款python接口的，基于一系列规则和机器学习算法完成的聊天机器人。具有结构清晰，可扩展性好，简单实用的特点。安装\n",
    "是的，安装超级简单，用pip就可以啦\n",
    "\n",
    "pip install chatterbot\n",
    "各式各样的Adapter\n",
    "大家已经知道chatterbot的聊天逻辑和输入输出以及存储，是由各种adapter来限定的，我们先看看流程图，一会软再一起看点例子，看看怎么用。\n",
    "\n",
    "基础版本"
   ]
  },
  {
   "cell_type": "code",
   "execution_count": 23,
   "metadata": {},
   "outputs": [
    {
     "name": "stdout",
     "output_type": "stream",
     "text": [
      "List Trainer: [####################] 100%\n",
      "How do I make an omelette?\n",
      "The current time is 12:24 AM\n",
      "\n",
      "\n",
      "how to make a chat bot?\n",
      "The current time is 12:24 AM\n"
     ]
    }
   ],
   "source": [
    "from chatterbot import ChatBot\n",
    "from chatterbot.trainers import ListTrainer\n",
    "\n",
    "# Create a new chat bot named Charlie\n",
    "chatbot = ChatBot(\n",
    "    'Default Response Example Bot',\n",
    "    storage_adapter='chatterbot.storage.SQLStorageAdapter',\n",
    "    logic_adapters=[\n",
    "        'chatterbot.logic.BestMatch',\n",
    "        'chatterbot.logic.MathematicalEvaluation',\n",
    "        'chatterbot.logic.TimeLogicAdapter'\n",
    "    ]\n",
    ")\n",
    "trainer = ListTrainer(chatbot)\n",
    "\n",
    "trainer.train([\n",
    "    'How can I help you?',\n",
    "    'I want to create a chat bot',\n",
    "    'Have you read the documentation?',\n",
    "    'No, I have not',\n",
    "    'This should help get you started: http://chatterbot.rtfd.org/en/latest/quickstart.html'\n",
    "])\n",
    "\n",
    "# 给定问题并取回结果\n",
    "question = 'How do I make an omelette?'\n",
    "print(question)\n",
    "response = bot.get_response(question)\n",
    "print(response)\n",
    "\n",
    "print(\"\\n\")\n",
    "question = 'how to make a chat bot?'\n",
    "print(question)\n",
    "response = bot.get_response(question)\n",
    "print(response)"
   ]
  },
  {
   "cell_type": "markdown",
   "metadata": {},
   "source": []
  },
  {
   "cell_type": "code",
   "execution_count": null,
   "metadata": {},
   "outputs": [],
   "source": []
  }
 ],
 "metadata": {
  "kernelspec": {
   "display_name": "Python 3",
   "language": "python",
   "name": "python3"
  },
  "language_info": {
   "codemirror_mode": {
    "name": "ipython",
    "version": 3
   },
   "file_extension": ".py",
   "mimetype": "text/x-python",
   "name": "python",
   "nbconvert_exporter": "python",
   "pygments_lexer": "ipython3",
   "version": "3.7.4"
  },
  "toc": {
   "base_numbering": 1,
   "nav_menu": {},
   "number_sections": true,
   "sideBar": true,
   "skip_h1_title": false,
   "title_cell": "Table of Contents",
   "title_sidebar": "Contents",
   "toc_cell": false,
   "toc_position": {},
   "toc_section_display": true,
   "toc_window_display": false
  }
 },
 "nbformat": 4,
 "nbformat_minor": 2
}
